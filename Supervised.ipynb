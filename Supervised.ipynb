{
 "cells": [
  {
   "cell_type": "code",
   "execution_count": 9,
   "metadata": {},
   "outputs": [],
   "source": [
    "import Script.Image as Image\n",
    "import matplotlib.pyplot as plt\n",
    "import pandas as pd\n",
    "from math import floor\n",
    "from sklearn.utils import shuffle\n",
    "from sklearn.linear_model import LogisticRegression\n",
    "from sklearn.tree import DecisionTreeClassifier\n",
    "from sklearn.ensemble import RandomForestClassifier"
   ]
  },
  {
   "cell_type": "markdown",
   "metadata": {},
   "source": [
    "# SUPERVISED LEARNING"
   ]
  },
  {
   "cell_type": "code",
   "execution_count": 2,
   "metadata": {},
   "outputs": [],
   "source": [
    "# Create training dataset\n",
    "training = pd.read_csv('Training.csv')\n",
    "training = shuffle(training)"
   ]
  },
  {
   "cell_type": "code",
   "execution_count": 19,
   "metadata": {},
   "outputs": [
    {
     "data": {
      "text/plain": [
       "61885043"
      ]
     },
     "execution_count": 19,
     "metadata": {},
     "output_type": "execute_result"
    }
   ],
   "source": [
    "len(training.loc[training['Content'] == 3])"
   ]
  },
  {
   "cell_type": "code",
   "execution_count": 13,
   "metadata": {},
   "outputs": [],
   "source": [
    "nonWater = training.loc[training['Content'] == 1]\n",
    "n = floor(len(nonWater)/2)\n",
    "training = training.drop(nonWater[:n].index)"
   ]
  },
  {
   "cell_type": "code",
   "execution_count": 14,
   "metadata": {},
   "outputs": [],
   "source": [
    "Water = training.loc[training['Content'] == 2]\n",
    "n = floor(len(Water)/2)\n",
    "training = training.drop(Water[:n].index)"
   ]
  },
  {
   "cell_type": "code",
   "execution_count": 15,
   "metadata": {},
   "outputs": [],
   "source": [
    "X = training[['B1','B2','B3','B4','B5','B6','B7','B8','B9','B10','B11','B12','B13']].fillna(0)\n",
    "Y = training['Content']"
   ]
  },
  {
   "cell_type": "code",
   "execution_count": 17,
   "metadata": {},
   "outputs": [
    {
     "data": {
      "text/html": [
       "<div>\n",
       "<style scoped>\n",
       "    .dataframe tbody tr th:only-of-type {\n",
       "        vertical-align: middle;\n",
       "    }\n",
       "\n",
       "    .dataframe tbody tr th {\n",
       "        vertical-align: top;\n",
       "    }\n",
       "\n",
       "    .dataframe thead th {\n",
       "        text-align: right;\n",
       "    }\n",
       "</style>\n",
       "<table border=\"1\" class=\"dataframe\">\n",
       "  <thead>\n",
       "    <tr style=\"text-align: right;\">\n",
       "      <th></th>\n",
       "      <th>B1</th>\n",
       "      <th>B2</th>\n",
       "      <th>B3</th>\n",
       "      <th>B4</th>\n",
       "      <th>B5</th>\n",
       "      <th>B6</th>\n",
       "      <th>B7</th>\n",
       "      <th>B8</th>\n",
       "      <th>B9</th>\n",
       "      <th>B10</th>\n",
       "      <th>B11</th>\n",
       "      <th>B12</th>\n",
       "      <th>B13</th>\n",
       "    </tr>\n",
       "  </thead>\n",
       "  <tbody>\n",
       "    <tr>\n",
       "      <th>count</th>\n",
       "      <td>6.436755e+07</td>\n",
       "      <td>6.436755e+07</td>\n",
       "      <td>6.436755e+07</td>\n",
       "      <td>6.436755e+07</td>\n",
       "      <td>6.436755e+07</td>\n",
       "      <td>6.436755e+07</td>\n",
       "      <td>6.436755e+07</td>\n",
       "      <td>6.436755e+07</td>\n",
       "      <td>6.436755e+07</td>\n",
       "      <td>6.436755e+07</td>\n",
       "      <td>6.436755e+07</td>\n",
       "      <td>6.436755e+07</td>\n",
       "      <td>6.436755e+07</td>\n",
       "    </tr>\n",
       "    <tr>\n",
       "      <th>mean</th>\n",
       "      <td>8.930828e+02</td>\n",
       "      <td>9.870924e+02</td>\n",
       "      <td>1.139143e+03</td>\n",
       "      <td>1.082922e+03</td>\n",
       "      <td>1.380813e+03</td>\n",
       "      <td>2.090862e+03</td>\n",
       "      <td>2.389355e+03</td>\n",
       "      <td>2.438366e+03</td>\n",
       "      <td>2.609565e+03</td>\n",
       "      <td>2.572490e+03</td>\n",
       "      <td>2.036160e+03</td>\n",
       "      <td>1.284705e+03</td>\n",
       "      <td>2.564281e+02</td>\n",
       "    </tr>\n",
       "    <tr>\n",
       "      <th>std</th>\n",
       "      <td>3.683109e+02</td>\n",
       "      <td>3.338106e+02</td>\n",
       "      <td>2.876448e+02</td>\n",
       "      <td>2.974739e+02</td>\n",
       "      <td>2.721326e+02</td>\n",
       "      <td>4.283740e+02</td>\n",
       "      <td>5.405716e+02</td>\n",
       "      <td>5.435488e+02</td>\n",
       "      <td>5.998949e+02</td>\n",
       "      <td>5.259697e+02</td>\n",
       "      <td>5.058949e+02</td>\n",
       "      <td>4.990053e+02</td>\n",
       "      <td>1.550221e+02</td>\n",
       "    </tr>\n",
       "    <tr>\n",
       "      <th>min</th>\n",
       "      <td>1.000000e+00</td>\n",
       "      <td>1.000000e+00</td>\n",
       "      <td>1.000000e+01</td>\n",
       "      <td>1.070000e+02</td>\n",
       "      <td>2.770000e+02</td>\n",
       "      <td>2.370000e+02</td>\n",
       "      <td>2.310000e+02</td>\n",
       "      <td>2.140000e+02</td>\n",
       "      <td>2.060000e+02</td>\n",
       "      <td>1.840000e+02</td>\n",
       "      <td>1.220000e+02</td>\n",
       "      <td>1.800000e+01</td>\n",
       "      <td>6.300000e+01</td>\n",
       "    </tr>\n",
       "    <tr>\n",
       "      <th>25%</th>\n",
       "      <td>8.660000e+02</td>\n",
       "      <td>9.410000e+02</td>\n",
       "      <td>1.054000e+03</td>\n",
       "      <td>9.840000e+02</td>\n",
       "      <td>1.249000e+03</td>\n",
       "      <td>1.890000e+03</td>\n",
       "      <td>2.129000e+03</td>\n",
       "      <td>2.206000e+03</td>\n",
       "      <td>2.342000e+03</td>\n",
       "      <td>2.376000e+03</td>\n",
       "      <td>1.788000e+03</td>\n",
       "      <td>9.570000e+02</td>\n",
       "      <td>1.950000e+02</td>\n",
       "    </tr>\n",
       "    <tr>\n",
       "      <th>50%</th>\n",
       "      <td>1.034000e+03</td>\n",
       "      <td>1.090000e+03</td>\n",
       "      <td>1.216000e+03</td>\n",
       "      <td>1.098000e+03</td>\n",
       "      <td>1.404000e+03</td>\n",
       "      <td>2.137000e+03</td>\n",
       "      <td>2.463000e+03</td>\n",
       "      <td>2.524000e+03</td>\n",
       "      <td>2.699000e+03</td>\n",
       "      <td>2.661000e+03</td>\n",
       "      <td>2.020000e+03</td>\n",
       "      <td>1.145000e+03</td>\n",
       "      <td>1.990000e+02</td>\n",
       "    </tr>\n",
       "    <tr>\n",
       "      <th>75%</th>\n",
       "      <td>1.123000e+03</td>\n",
       "      <td>1.196000e+03</td>\n",
       "      <td>1.318000e+03</td>\n",
       "      <td>1.252000e+03</td>\n",
       "      <td>1.532000e+03</td>\n",
       "      <td>2.394000e+03</td>\n",
       "      <td>2.771000e+03</td>\n",
       "      <td>2.806000e+03</td>\n",
       "      <td>3.027000e+03</td>\n",
       "      <td>2.895000e+03</td>\n",
       "      <td>2.310000e+03</td>\n",
       "      <td>1.563000e+03</td>\n",
       "      <td>2.030000e+02</td>\n",
       "    </tr>\n",
       "    <tr>\n",
       "      <th>max</th>\n",
       "      <td>9.486000e+03</td>\n",
       "      <td>9.840000e+03</td>\n",
       "      <td>9.112000e+03</td>\n",
       "      <td>8.544000e+03</td>\n",
       "      <td>8.838000e+03</td>\n",
       "      <td>8.378000e+03</td>\n",
       "      <td>9.430000e+03</td>\n",
       "      <td>9.752000e+03</td>\n",
       "      <td>9.774000e+03</td>\n",
       "      <td>1.523300e+04</td>\n",
       "      <td>1.633000e+04</td>\n",
       "      <td>1.595900e+04</td>\n",
       "      <td>6.900000e+02</td>\n",
       "    </tr>\n",
       "  </tbody>\n",
       "</table>\n",
       "</div>"
      ],
      "text/plain": [
       "                 B1            B2            B3            B4            B5  \\\n",
       "count  6.436755e+07  6.436755e+07  6.436755e+07  6.436755e+07  6.436755e+07   \n",
       "mean   8.930828e+02  9.870924e+02  1.139143e+03  1.082922e+03  1.380813e+03   \n",
       "std    3.683109e+02  3.338106e+02  2.876448e+02  2.974739e+02  2.721326e+02   \n",
       "min    1.000000e+00  1.000000e+00  1.000000e+01  1.070000e+02  2.770000e+02   \n",
       "25%    8.660000e+02  9.410000e+02  1.054000e+03  9.840000e+02  1.249000e+03   \n",
       "50%    1.034000e+03  1.090000e+03  1.216000e+03  1.098000e+03  1.404000e+03   \n",
       "75%    1.123000e+03  1.196000e+03  1.318000e+03  1.252000e+03  1.532000e+03   \n",
       "max    9.486000e+03  9.840000e+03  9.112000e+03  8.544000e+03  8.838000e+03   \n",
       "\n",
       "                 B6            B7            B8            B9           B10  \\\n",
       "count  6.436755e+07  6.436755e+07  6.436755e+07  6.436755e+07  6.436755e+07   \n",
       "mean   2.090862e+03  2.389355e+03  2.438366e+03  2.609565e+03  2.572490e+03   \n",
       "std    4.283740e+02  5.405716e+02  5.435488e+02  5.998949e+02  5.259697e+02   \n",
       "min    2.370000e+02  2.310000e+02  2.140000e+02  2.060000e+02  1.840000e+02   \n",
       "25%    1.890000e+03  2.129000e+03  2.206000e+03  2.342000e+03  2.376000e+03   \n",
       "50%    2.137000e+03  2.463000e+03  2.524000e+03  2.699000e+03  2.661000e+03   \n",
       "75%    2.394000e+03  2.771000e+03  2.806000e+03  3.027000e+03  2.895000e+03   \n",
       "max    8.378000e+03  9.430000e+03  9.752000e+03  9.774000e+03  1.523300e+04   \n",
       "\n",
       "                B11           B12           B13  \n",
       "count  6.436755e+07  6.436755e+07  6.436755e+07  \n",
       "mean   2.036160e+03  1.284705e+03  2.564281e+02  \n",
       "std    5.058949e+02  4.990053e+02  1.550221e+02  \n",
       "min    1.220000e+02  1.800000e+01  6.300000e+01  \n",
       "25%    1.788000e+03  9.570000e+02  1.950000e+02  \n",
       "50%    2.020000e+03  1.145000e+03  1.990000e+02  \n",
       "75%    2.310000e+03  1.563000e+03  2.030000e+02  \n",
       "max    1.633000e+04  1.595900e+04  6.900000e+02  "
      ]
     },
     "execution_count": 17,
     "metadata": {},
     "output_type": "execute_result"
    }
   ],
   "source": [
    "X.describe()"
   ]
  },
  {
   "cell_type": "markdown",
   "metadata": {},
   "source": [
    "## Logistic Regression"
   ]
  },
  {
   "cell_type": "code",
   "execution_count": 16,
   "metadata": {},
   "outputs": [
    {
     "name": "stderr",
     "output_type": "stream",
     "text": [
      "C:\\Users\\remot\\.conda\\envs\\Blanca\\lib\\site-packages\\sklearn\\linear_model\\_logistic.py:940: ConvergenceWarning: lbfgs failed to converge (status=1):\n",
      "STOP: TOTAL NO. of ITERATIONS REACHED LIMIT.\n",
      "\n",
      "Increase the number of iterations (max_iter) or scale the data as shown in:\n",
      "    https://scikit-learn.org/stable/modules/preprocessing.html\n",
      "Please also refer to the documentation for alternative solver options:\n",
      "    https://scikit-learn.org/stable/modules/linear_model.html#logistic-regression\n",
      "  extra_warning_msg=_LOGISTIC_SOLVER_CONVERGENCE_MSG)\n"
     ]
    }
   ],
   "source": [
    "# Train model\n",
    "LogReg=LogisticRegression()\n",
    "LogReg.fit(X, Y);"
   ]
  },
  {
   "cell_type": "markdown",
   "metadata": {},
   "source": [
    "#### Data from 07/01/20"
   ]
  },
  {
   "cell_type": "code",
   "execution_count": 3,
   "metadata": {},
   "outputs": [
    {
     "ename": "KeyboardInterrupt",
     "evalue": "",
     "output_type": "error",
     "traceback": [
      "\u001b[1;31m---------------------------------------------------------------------------\u001b[0m",
      "\u001b[1;31mKeyboardInterrupt\u001b[0m                         Traceback (most recent call last)",
      "\u001b[1;32m<ipython-input-3-8c5e92a68ef7>\u001b[0m in \u001b[0;36m<module>\u001b[1;34m\u001b[0m\n\u001b[0;32m      1\u001b[0m \u001b[1;31m# Create validation dataset\u001b[0m\u001b[1;33m\u001b[0m\u001b[1;33m\u001b[0m\u001b[1;33m\u001b[0m\u001b[0m\n\u001b[0;32m      2\u001b[0m \u001b[0mfilepath\u001b[0m \u001b[1;33m=\u001b[0m \u001b[1;34m\"H:/sentinel2/Ghana/Validation/07-01-20/NW/L2A_070120_20.tif\"\u001b[0m\u001b[1;33m\u001b[0m\u001b[1;33m\u001b[0m\u001b[0m\n\u001b[1;32m----> 3\u001b[1;33m \u001b[0mimg_07012020\u001b[0m \u001b[1;33m=\u001b[0m \u001b[0mImage\u001b[0m\u001b[1;33m.\u001b[0m\u001b[0mmake_dataset\u001b[0m\u001b[1;33m(\u001b[0m\u001b[0mfilepath\u001b[0m\u001b[1;33m)\u001b[0m\u001b[1;33m\u001b[0m\u001b[1;33m\u001b[0m\u001b[0m\n\u001b[0m\u001b[0;32m      4\u001b[0m \u001b[0mt\u001b[0m \u001b[1;33m=\u001b[0m \u001b[0mimg_07012020\u001b[0m\u001b[1;33m[\u001b[0m\u001b[1;34m'df'\u001b[0m\u001b[1;33m]\u001b[0m\u001b[1;33m\u001b[0m\u001b[1;33m\u001b[0m\u001b[0m\n",
      "\u001b[1;32m~\\Documents\\Code_2\\Script\\Image.py\u001b[0m in \u001b[0;36mmake_dataset\u001b[1;34m(filepath)\u001b[0m\n\u001b[0;32m     41\u001b[0m \u001b[1;32mdef\u001b[0m \u001b[0mmake_dataset\u001b[0m\u001b[1;33m(\u001b[0m\u001b[0mfilepath\u001b[0m\u001b[1;33m)\u001b[0m\u001b[1;33m:\u001b[0m\u001b[1;33m\u001b[0m\u001b[1;33m\u001b[0m\u001b[0m\n\u001b[0;32m     42\u001b[0m     \u001b[0mraster\u001b[0m \u001b[1;33m=\u001b[0m \u001b[0mrasterio\u001b[0m\u001b[1;33m.\u001b[0m\u001b[0mopen\u001b[0m\u001b[1;33m(\u001b[0m\u001b[0mfilepath\u001b[0m\u001b[1;33m)\u001b[0m\u001b[1;33m\u001b[0m\u001b[1;33m\u001b[0m\u001b[0m\n\u001b[1;32m---> 43\u001b[1;33m     \u001b[0mdf\u001b[0m \u001b[1;33m=\u001b[0m \u001b[0mbands_to_df\u001b[0m\u001b[1;33m(\u001b[0m\u001b[0mraster\u001b[0m\u001b[1;33m)\u001b[0m\u001b[1;33m\u001b[0m\u001b[1;33m\u001b[0m\u001b[0m\n\u001b[0m\u001b[0;32m     44\u001b[0m     \u001b[0mdf\u001b[0m \u001b[1;33m=\u001b[0m \u001b[0madd_NDWI\u001b[0m\u001b[1;33m(\u001b[0m\u001b[0mdf\u001b[0m\u001b[1;33m)\u001b[0m\u001b[1;33m\u001b[0m\u001b[1;33m\u001b[0m\u001b[0m\n\u001b[0;32m     45\u001b[0m     \u001b[0mdf\u001b[0m \u001b[1;33m=\u001b[0m \u001b[0madd_NDVI\u001b[0m\u001b[1;33m(\u001b[0m\u001b[0mdf\u001b[0m\u001b[1;33m)\u001b[0m\u001b[1;33m\u001b[0m\u001b[1;33m\u001b[0m\u001b[0m\n",
      "\u001b[1;32m~\\Documents\\Code_2\\Script\\Image.py\u001b[0m in \u001b[0;36mbands_to_df\u001b[1;34m(raster)\u001b[0m\n\u001b[0;32m     14\u001b[0m \u001b[1;33m\u001b[0m\u001b[0m\n\u001b[0;32m     15\u001b[0m     \u001b[1;32mfor\u001b[0m \u001b[0mband\u001b[0m \u001b[1;32min\u001b[0m \u001b[0mraster\u001b[0m\u001b[1;33m.\u001b[0m\u001b[0mindexes\u001b[0m\u001b[1;33m:\u001b[0m\u001b[1;33m\u001b[0m\u001b[1;33m\u001b[0m\u001b[0m\n\u001b[1;32m---> 16\u001b[1;33m         \u001b[0mdf\u001b[0m\u001b[1;33m[\u001b[0m\u001b[1;34m'B'\u001b[0m\u001b[1;33m+\u001b[0m\u001b[0mstr\u001b[0m\u001b[1;33m(\u001b[0m\u001b[0mband\u001b[0m\u001b[1;33m)\u001b[0m\u001b[1;33m]\u001b[0m \u001b[1;33m=\u001b[0m \u001b[0mraster\u001b[0m\u001b[1;33m.\u001b[0m\u001b[0mread\u001b[0m\u001b[1;33m(\u001b[0m\u001b[0mband\u001b[0m\u001b[1;33m)\u001b[0m\u001b[1;33m.\u001b[0m\u001b[0mflatten\u001b[0m\u001b[1;33m(\u001b[0m\u001b[1;33m)\u001b[0m\u001b[1;33m\u001b[0m\u001b[1;33m\u001b[0m\u001b[0m\n\u001b[0m\u001b[0;32m     17\u001b[0m \u001b[1;33m\u001b[0m\u001b[0m\n\u001b[0;32m     18\u001b[0m     \u001b[1;32mreturn\u001b[0m \u001b[0mdf\u001b[0m\u001b[1;33m\u001b[0m\u001b[1;33m\u001b[0m\u001b[0m\n",
      "\u001b[1;31mKeyboardInterrupt\u001b[0m: "
     ]
    }
   ],
   "source": [
    "# Create validation dataset\n",
    "NW_path = \"H:/sentinel2/Ghana/Validation/07-01-20/NW/L2A_070120_20.tif\"\n",
    "NW_07012020 = Image.make_dataset(NW_path)\n",
    "NW = NW_07012020['df']\n",
    "\n",
    "'''\n",
    "NE_path = \"H:/sentinel2/Ghana/Validation/07-01-20/NE/L2A_070120_20.tif\"\n",
    "NE_07012020 = Image.make_dataset(NE_path)\n",
    "NE = NE_07012020['df']\n",
    "\n",
    "SE_path = \"H:/sentinel2/Ghana/Validation/07-01-20/SE/L2A_070120_20.tif\"\n",
    "SE_07012020 = Image.make_dataset(SE_path)\n",
    "SE = SE_07012020['df']\n",
    "\n",
    "SW_path = \"H:/sentinel2/Ghana/Validation/07-01-20/SW/L2A_070120_20.tif\"\n",
    "SW_07012020 = Image.make_dataset(SW_path)\n",
    "SW = SW_07012020['df']\n",
    "'''"
   ]
  },
  {
   "cell_type": "code",
   "execution_count": null,
   "metadata": {},
   "outputs": [],
   "source": [
    "# Predict model\n",
    "pred_NW = LogReg.predict(NW)\n",
    "pred_SW = LogReg.predict(SW)\n",
    "pred_NE = LogReg.predict(NE)\n",
    "pred_SE = LogReg.predict(SE)"
   ]
  },
  {
   "cell_type": "code",
   "execution_count": null,
   "metadata": {},
   "outputs": [],
   "source": [
    "img = pred.reshape(NW_07012020['dim'])\n",
    "Image.show_pred(img)"
   ]
  },
  {
   "cell_type": "markdown",
   "metadata": {},
   "source": [
    "## Decision Trees"
   ]
  },
  {
   "cell_type": "code",
   "execution_count": null,
   "metadata": {},
   "outputs": [],
   "source": []
  },
  {
   "cell_type": "markdown",
   "metadata": {},
   "source": [
    "## Random Forest "
   ]
  },
  {
   "cell_type": "code",
   "execution_count": null,
   "metadata": {},
   "outputs": [],
   "source": []
  }
 ],
 "metadata": {
  "kernelspec": {
   "display_name": "Blanca",
   "language": "python",
   "name": "blanca"
  },
  "language_info": {
   "codemirror_mode": {
    "name": "ipython",
    "version": 3
   },
   "file_extension": ".py",
   "mimetype": "text/x-python",
   "name": "python",
   "nbconvert_exporter": "python",
   "pygments_lexer": "ipython3",
   "version": "3.7.6"
  }
 },
 "nbformat": 4,
 "nbformat_minor": 4
}
