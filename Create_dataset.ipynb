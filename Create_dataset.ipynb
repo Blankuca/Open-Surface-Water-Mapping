{
 "cells": [
  {
   "cell_type": "code",
   "execution_count": 1,
   "metadata": {},
   "outputs": [
    {
     "name": "stderr",
     "output_type": "stream",
     "text": [
      "PROJ: proj_create_from_database: Cannot find proj.db\n"
     ]
    }
   ],
   "source": [
    "import Script.Image as Image\n",
    "import Script.Processing as Processing\n",
    "import pandas as pd\n",
    "import matplotlib.pyplot as plt\n",
    "from sklearn.utils import shuffle"
   ]
  },
  {
   "cell_type": "markdown",
   "metadata": {},
   "source": [
    "# DATA PROCESSING\n",
    "\n",
    "In this notebook, a training and validation dataset will be created. The dataset will include the values of the 13 bands of the S2 MSI and to which class do the pixels belong to: Water (big water surfaces), Rivers (smaller water surfaces) and non-water. This is because the water and river pixels differ a lot from one another."
   ]
  },
  {
   "cell_type": "markdown",
   "metadata": {},
   "source": [
    "## Creating the training dataset\n",
    "Moreover, images from the same place throughout different days vary a lot. This is because of factors such as sunlight and clouds, and other things. Therefore, it is important to include many days in the training dataset."
   ]
  },
  {
   "cell_type": "markdown",
   "metadata": {},
   "source": [
    "#### Data from 27/01/2020"
   ]
  },
  {
   "cell_type": "code",
   "execution_count": 2,
   "metadata": {},
   "outputs": [],
   "source": [
    "filepath = \"H:/sentinel2/Ghana/Training/27-01-20/NW/L2A_270120_20.tif\"\n",
    "root = \"H:/sentinel2/Ghana/Training/27-01-20/NW/Shapefiles/\"\n",
    "NW_270120 = Processing.make_dataset(root, filepath)"
   ]
  },
  {
   "cell_type": "code",
   "execution_count": 3,
   "metadata": {},
   "outputs": [],
   "source": [
    "filepath = \"H:/sentinel2/Ghana/Training/27-01-20/SE/L2A_270120_20.tif\"\n",
    "root = \"H:/sentinel2/Ghana/Training/27-01-20/SE/Shapefiles/\"\n",
    "SE_270120 = Processing.make_dataset(root, filepath)"
   ]
  },
  {
   "cell_type": "code",
   "execution_count": 4,
   "metadata": {},
   "outputs": [],
   "source": [
    "IMG_27120 = pd.concat([NW_270120,SE_270120])"
   ]
  },
  {
   "cell_type": "markdown",
   "metadata": {},
   "source": [
    "#### Data from 28/12/18"
   ]
  },
  {
   "cell_type": "code",
   "execution_count": 5,
   "metadata": {},
   "outputs": [],
   "source": [
    "filepath = \"H:/sentinel2/Ghana/Training/28-12-18/NW/L2A_281218_20.tif\"\n",
    "root = \"H:/sentinel2/Ghana/Training/28-12-18/NW/Shapefiles/\"\n",
    "NW_281218 = Processing.make_dataset(root, filepath)"
   ]
  },
  {
   "cell_type": "code",
   "execution_count": 6,
   "metadata": {},
   "outputs": [],
   "source": [
    "filepath = \"H:/sentinel2/Ghana/Training/28-12-18/SE/L2A_281218_20.tif\"\n",
    "root = \"H:/sentinel2/Ghana/Training/28-12-18/SE/Shapefiles/\"\n",
    "SE_281218 = Processing.make_dataset(root, filepath)"
   ]
  },
  {
   "cell_type": "code",
   "execution_count": 7,
   "metadata": {},
   "outputs": [],
   "source": [
    "IMG_281218 = pd.concat([NW_281218,SE_281218])"
   ]
  },
  {
   "cell_type": "markdown",
   "metadata": {},
   "source": [
    "#### Data from 23/12/19"
   ]
  },
  {
   "cell_type": "code",
   "execution_count": 8,
   "metadata": {},
   "outputs": [],
   "source": [
    "filepath = \"H:/sentinel2/Ghana/Training/23-12-19/NE/L2A_231219_20.tif\"\n",
    "root = \"H:/sentinel2/Ghana/Training/23-12-19/NE/Shapefiles/\"\n",
    "NE_231219 = Processing.make_dataset(root, filepath)"
   ]
  },
  {
   "cell_type": "code",
   "execution_count": 9,
   "metadata": {},
   "outputs": [],
   "source": [
    "IMG_231219 = NE_231219"
   ]
  },
  {
   "cell_type": "markdown",
   "metadata": {},
   "source": [
    "#### Data from 12/01/20"
   ]
  },
  {
   "cell_type": "code",
   "execution_count": 10,
   "metadata": {},
   "outputs": [],
   "source": [
    "filepath = \"H:/sentinel2/Ghana/Training/12-01-20/SE/L2A_120120_20.tif\"\n",
    "root = \"H:/sentinel2/Ghana/Training/12-01-20/SE/Shapefiles/\"\n",
    "SE_120120 = Processing.make_dataset(root, filepath)"
   ]
  },
  {
   "cell_type": "code",
   "execution_count": 11,
   "metadata": {},
   "outputs": [],
   "source": [
    "IMG_120120 = SE_120120"
   ]
  },
  {
   "cell_type": "markdown",
   "metadata": {},
   "source": [
    "#### Data from 22/01/19"
   ]
  },
  {
   "cell_type": "code",
   "execution_count": 12,
   "metadata": {},
   "outputs": [],
   "source": [
    "filepath = \"H:/sentinel2/Ghana/Training/22-01-19/NW/L2A_220119_20.tif\"\n",
    "root = \"H:/sentinel2/Ghana/Training/22-01-19/NW/Shapefiles/\"\n",
    "NW_220119 = Processing.make_dataset(root, filepath)"
   ]
  },
  {
   "cell_type": "code",
   "execution_count": 13,
   "metadata": {},
   "outputs": [],
   "source": [
    "IMG_220119 = NW_220119 "
   ]
  },
  {
   "cell_type": "markdown",
   "metadata": {},
   "source": [
    "### Training dataset"
   ]
  },
  {
   "cell_type": "code",
   "execution_count": 14,
   "metadata": {},
   "outputs": [],
   "source": [
    "training = pd.concat([IMG_27120, IMG_281218, IMG_231219, IMG_120120,IMG_220119])\n",
    "training.columns = ['B1','B2','B3','B4','B5','B6','B7','B8', 'B8A', 'B9','B10','B11','B12', 'Content']"
   ]
  },
  {
   "cell_type": "code",
   "execution_count": 15,
   "metadata": {},
   "outputs": [],
   "source": [
    "training.to_csv(r'Data/Final.csv')"
   ]
  },
  {
   "cell_type": "code",
   "execution_count": null,
   "metadata": {},
   "outputs": [],
   "source": []
  },
  {
   "cell_type": "code",
   "execution_count": null,
   "metadata": {},
   "outputs": [],
   "source": [
    "import geopandas as gpd\n",
    "import pandas as pd\n",
    "\n",
    "river_path = \"H:/sentinel2/Ghana/Training/12-01-20/SE/Shapefiles/River_Polygon.shp\"\n",
    "river2_path = \"H:/sentinel2/Ghana/Training/12-01-20/SE/Shapefiles/River_2_Polygon.shp\"\n",
    "\n",
    "df = gpd.read_file(river_path)\n",
    "df2 = gpd.read_file(river2_path)\n",
    "\n",
    "x = pd.concat([df,df2])\n",
    "\n",
    "x.to_file(\"H:/sentinel2/Ghana/Training/12-01-20/SE/River_Polygon.shp\")"
   ]
  }
 ],
 "metadata": {
  "kernelspec": {
   "display_name": "Blanca",
   "language": "python",
   "name": "blanca"
  },
  "language_info": {
   "codemirror_mode": {
    "name": "ipython",
    "version": 3
   },
   "file_extension": ".py",
   "mimetype": "text/x-python",
   "name": "python",
   "nbconvert_exporter": "python",
   "pygments_lexer": "ipython3",
   "version": "3.7.6"
  }
 },
 "nbformat": 4,
 "nbformat_minor": 2
}
