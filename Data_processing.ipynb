{
 "cells": [
  {
   "cell_type": "code",
   "execution_count": 1,
   "metadata": {},
   "outputs": [],
   "source": [
    "import pandas as pd\n",
    "import numpy as np\n",
    "from math import floor\n",
    "import seaborn as sns\n",
    "from sklearn.utils import shuffle\n",
    "from sklearn import preprocessing\n",
    "import matplotlib.pyplot as plt\n",
    "import Script.Image as Image\n",
    "import Script.Processing as Processing\n",
    "from sklearn.decomposition import PCA\n",
    "from imblearn.over_sampling import SMOTE"
   ]
  },
  {
   "cell_type": "markdown",
   "metadata": {},
   "source": [
    "# DATA EXPLORATION"
   ]
  },
  {
   "cell_type": "code",
   "execution_count": 2,
   "metadata": {},
   "outputs": [],
   "source": [
    "training = pd.read_csv('Data/Final.csv', index_col = 0)"
   ]
  },
  {
   "cell_type": "code",
   "execution_count": 4,
   "metadata": {},
   "outputs": [
    {
     "name": "stderr",
     "output_type": "stream",
     "text": [
      "C:\\Users\\remot\\.conda\\envs\\Blanca\\lib\\site-packages\\numpy\\lib\\arraysetops.py:569: FutureWarning: elementwise comparison failed; returning scalar instead, but in the future will perform elementwise comparison\n",
      "  mask |= (ar1 == a)\n"
     ]
    }
   ],
   "source": [
    "validation = pd.read_csv('Data/Validation.csv', index_col = 0, header = 0) "
   ]
  },
  {
   "cell_type": "code",
   "execution_count": 3,
   "metadata": {},
   "outputs": [],
   "source": [
    "training = training.reset_index(drop = True)\n",
    "cols = ['B1','B2','B3','B4','B5','B6','B7','B8', 'B8A', 'B9','B10','B11','B12']\n",
    "X = training[cols]\n",
    "Y = training['Content']"
   ]
  },
  {
   "cell_type": "markdown",
   "metadata": {},
   "source": [
    "### 1) Descriptive statistics"
   ]
  },
  {
   "cell_type": "code",
   "execution_count": 5,
   "metadata": {},
   "outputs": [
    {
     "data": {
      "text/html": [
       "<div>\n",
       "<style scoped>\n",
       "    .dataframe tbody tr th:only-of-type {\n",
       "        vertical-align: middle;\n",
       "    }\n",
       "\n",
       "    .dataframe tbody tr th {\n",
       "        vertical-align: top;\n",
       "    }\n",
       "\n",
       "    .dataframe thead th {\n",
       "        text-align: right;\n",
       "    }\n",
       "</style>\n",
       "<table border=\"1\" class=\"dataframe\">\n",
       "  <thead>\n",
       "    <tr style=\"text-align: right;\">\n",
       "      <th></th>\n",
       "      <th>B1</th>\n",
       "      <th>B2</th>\n",
       "      <th>B3</th>\n",
       "      <th>B4</th>\n",
       "      <th>B5</th>\n",
       "      <th>B6</th>\n",
       "      <th>B7</th>\n",
       "      <th>B8</th>\n",
       "      <th>B8A</th>\n",
       "      <th>B9</th>\n",
       "      <th>B10</th>\n",
       "      <th>B11</th>\n",
       "      <th>B12</th>\n",
       "      <th>Content</th>\n",
       "    </tr>\n",
       "  </thead>\n",
       "  <tbody>\n",
       "    <tr>\n",
       "      <th>count</th>\n",
       "      <td>286769.000000</td>\n",
       "      <td>286769.000000</td>\n",
       "      <td>286769.000000</td>\n",
       "      <td>286769.000000</td>\n",
       "      <td>286769.000000</td>\n",
       "      <td>286769.000000</td>\n",
       "      <td>286769.000000</td>\n",
       "      <td>286769.000000</td>\n",
       "      <td>286769.000000</td>\n",
       "      <td>286769.000000</td>\n",
       "      <td>286769.000000</td>\n",
       "      <td>286769.000000</td>\n",
       "      <td>286769.000000</td>\n",
       "      <td>286769.000000</td>\n",
       "    </tr>\n",
       "    <tr>\n",
       "      <th>mean</th>\n",
       "      <td>674.585398</td>\n",
       "      <td>803.044740</td>\n",
       "      <td>971.210800</td>\n",
       "      <td>916.902210</td>\n",
       "      <td>1089.927206</td>\n",
       "      <td>1355.768078</td>\n",
       "      <td>1483.760190</td>\n",
       "      <td>1462.818282</td>\n",
       "      <td>1550.150891</td>\n",
       "      <td>1569.007836</td>\n",
       "      <td>1260.858248</td>\n",
       "      <td>900.118503</td>\n",
       "      <td>304.008163</td>\n",
       "      <td>2.779153</td>\n",
       "    </tr>\n",
       "    <tr>\n",
       "      <th>std</th>\n",
       "      <td>428.380155</td>\n",
       "      <td>415.194534</td>\n",
       "      <td>396.214759</td>\n",
       "      <td>439.550517</td>\n",
       "      <td>467.536768</td>\n",
       "      <td>727.703443</td>\n",
       "      <td>878.227486</td>\n",
       "      <td>930.223421</td>\n",
       "      <td>994.767000</td>\n",
       "      <td>999.257045</td>\n",
       "      <td>930.102548</td>\n",
       "      <td>764.671374</td>\n",
       "      <td>182.404927</td>\n",
       "      <td>2.022025</td>\n",
       "    </tr>\n",
       "    <tr>\n",
       "      <th>min</th>\n",
       "      <td>1.000000</td>\n",
       "      <td>23.000000</td>\n",
       "      <td>283.000000</td>\n",
       "      <td>197.000000</td>\n",
       "      <td>304.000000</td>\n",
       "      <td>252.000000</td>\n",
       "      <td>254.000000</td>\n",
       "      <td>236.000000</td>\n",
       "      <td>224.000000</td>\n",
       "      <td>199.000000</td>\n",
       "      <td>132.000000</td>\n",
       "      <td>84.000000</td>\n",
       "      <td>67.000000</td>\n",
       "      <td>1.000000</td>\n",
       "    </tr>\n",
       "    <tr>\n",
       "      <th>25%</th>\n",
       "      <td>305.000000</td>\n",
       "      <td>403.000000</td>\n",
       "      <td>550.000000</td>\n",
       "      <td>516.000000</td>\n",
       "      <td>650.000000</td>\n",
       "      <td>611.000000</td>\n",
       "      <td>618.000000</td>\n",
       "      <td>541.000000</td>\n",
       "      <td>606.000000</td>\n",
       "      <td>563.000000</td>\n",
       "      <td>507.000000</td>\n",
       "      <td>394.000000</td>\n",
       "      <td>186.000000</td>\n",
       "      <td>1.000000</td>\n",
       "    </tr>\n",
       "    <tr>\n",
       "      <th>50%</th>\n",
       "      <td>525.000000</td>\n",
       "      <td>699.000000</td>\n",
       "      <td>978.000000</td>\n",
       "      <td>912.000000</td>\n",
       "      <td>1121.000000</td>\n",
       "      <td>1227.000000</td>\n",
       "      <td>1209.000000</td>\n",
       "      <td>1136.000000</td>\n",
       "      <td>1147.000000</td>\n",
       "      <td>1278.000000</td>\n",
       "      <td>798.000000</td>\n",
       "      <td>608.000000</td>\n",
       "      <td>204.000000</td>\n",
       "      <td>1.000000</td>\n",
       "    </tr>\n",
       "    <tr>\n",
       "      <th>75%</th>\n",
       "      <td>1126.000000</td>\n",
       "      <td>1218.000000</td>\n",
       "      <td>1316.000000</td>\n",
       "      <td>1250.000000</td>\n",
       "      <td>1382.000000</td>\n",
       "      <td>1996.000000</td>\n",
       "      <td>2251.000000</td>\n",
       "      <td>2302.000000</td>\n",
       "      <td>2450.000000</td>\n",
       "      <td>2520.000000</td>\n",
       "      <td>1889.000000</td>\n",
       "      <td>1038.000000</td>\n",
       "      <td>563.000000</td>\n",
       "      <td>5.000000</td>\n",
       "    </tr>\n",
       "    <tr>\n",
       "      <th>max</th>\n",
       "      <td>1647.000000</td>\n",
       "      <td>2620.000000</td>\n",
       "      <td>3286.000000</td>\n",
       "      <td>3708.000000</td>\n",
       "      <td>3978.000000</td>\n",
       "      <td>4253.000000</td>\n",
       "      <td>4850.000000</td>\n",
       "      <td>4844.000000</td>\n",
       "      <td>5315.000000</td>\n",
       "      <td>4420.000000</td>\n",
       "      <td>5508.000000</td>\n",
       "      <td>5470.000000</td>\n",
       "      <td>577.000000</td>\n",
       "      <td>6.000000</td>\n",
       "    </tr>\n",
       "  </tbody>\n",
       "</table>\n",
       "</div>"
      ],
      "text/plain": [
       "                  B1             B2             B3             B4  \\\n",
       "count  286769.000000  286769.000000  286769.000000  286769.000000   \n",
       "mean      674.585398     803.044740     971.210800     916.902210   \n",
       "std       428.380155     415.194534     396.214759     439.550517   \n",
       "min         1.000000      23.000000     283.000000     197.000000   \n",
       "25%       305.000000     403.000000     550.000000     516.000000   \n",
       "50%       525.000000     699.000000     978.000000     912.000000   \n",
       "75%      1126.000000    1218.000000    1316.000000    1250.000000   \n",
       "max      1647.000000    2620.000000    3286.000000    3708.000000   \n",
       "\n",
       "                  B5             B6             B7             B8  \\\n",
       "count  286769.000000  286769.000000  286769.000000  286769.000000   \n",
       "mean     1089.927206    1355.768078    1483.760190    1462.818282   \n",
       "std       467.536768     727.703443     878.227486     930.223421   \n",
       "min       304.000000     252.000000     254.000000     236.000000   \n",
       "25%       650.000000     611.000000     618.000000     541.000000   \n",
       "50%      1121.000000    1227.000000    1209.000000    1136.000000   \n",
       "75%      1382.000000    1996.000000    2251.000000    2302.000000   \n",
       "max      3978.000000    4253.000000    4850.000000    4844.000000   \n",
       "\n",
       "                 B8A             B9            B10            B11  \\\n",
       "count  286769.000000  286769.000000  286769.000000  286769.000000   \n",
       "mean     1550.150891    1569.007836    1260.858248     900.118503   \n",
       "std       994.767000     999.257045     930.102548     764.671374   \n",
       "min       224.000000     199.000000     132.000000      84.000000   \n",
       "25%       606.000000     563.000000     507.000000     394.000000   \n",
       "50%      1147.000000    1278.000000     798.000000     608.000000   \n",
       "75%      2450.000000    2520.000000    1889.000000    1038.000000   \n",
       "max      5315.000000    4420.000000    5508.000000    5470.000000   \n",
       "\n",
       "                 B12        Content  \n",
       "count  286769.000000  286769.000000  \n",
       "mean      304.008163       2.779153  \n",
       "std       182.404927       2.022025  \n",
       "min        67.000000       1.000000  \n",
       "25%       186.000000       1.000000  \n",
       "50%       204.000000       1.000000  \n",
       "75%       563.000000       5.000000  \n",
       "max       577.000000       6.000000  "
      ]
     },
     "execution_count": 5,
     "metadata": {},
     "output_type": "execute_result"
    }
   ],
   "source": [
    "training.describe()"
   ]
  },
  {
   "cell_type": "markdown",
   "metadata": {},
   "source": [
    "### 2) Spectral signature"
   ]
  },
  {
   "cell_type": "code",
   "execution_count": 23,
   "metadata": {},
   "outputs": [
    {
     "data": {
      "image/png": "[encoded data removed]",
      "text/plain": [
       "<Figure size 432x288 with 1 Axes>"
      ]
     },
     "metadata": {
      "needs_background": "light"
     },
     "output_type": "display_data"
    }
   ],
   "source": [
    "mean_deep = deep_water[cols].mean()\n",
    "mean_shall = shallow_water[cols].mean()\n",
    "mean_veg = veg[cols].mean()\n",
    "mean_dry = dry[cols].mean()\n",
    "mean_fall = fall[cols].mean()\n",
    "mean_city = city[cols].mean()\n",
    "\n",
    "std_deep = deep_water[cols].std()\n",
    "std_shall = shallow_water[cols].std()\n",
    "std_veg = veg[cols].std()\n",
    "std_dry = dry[cols].std()\n",
    "std_fall = fall[cols].std()\n",
    "std_city = city[cols].std()\n",
    "\n",
    "n = 50\n",
    "sd = False\n",
    "\n",
    "colors = ['dodgerblue', 'paleturquoise', 'peru', 'rosybrown', 'forestgreen', 'firebrick']\n",
    "labels = ['Deep Water Bodies', 'Shallow Water Bodies', 'Dry Soil', 'Damp Soil', 'Vegetation', 'Urban']\n",
    "\n",
    "plt.plot(wavelenghts, mean_deep/n, color = colors[0], label = labels[0])\n",
    "plt.plot(wavelenghts, mean_shall/n, color = colors[1], label = labels[1])\n",
    "plt.plot(wavelenghts, mean_dry/n, color = colors[2], label = labels[2])\n",
    "plt.plot(wavelenghts, mean_fall/n, color = colors[3], label = labels[3])\n",
    "plt.plot(wavelenghts, mean_veg/n, color = colors[4], label = labels[4])\n",
    "plt.plot(wavelenghts, mean_city/n, color = colors[5], label = labels[5])\n",
    "\n",
    "if sd:\n",
    "    plt.fill_between(cols,mean_city-std_city, mean_city+std_city, color=colors[5], alpha=0.2)\n",
    "    plt.fill_between(cols,mean_veg-std_veg, mean_veg+std_veg, color=colors[4], alpha=0.2)\n",
    "    plt.fill_between(cols,mean_fall-std_fall, mean_fall+std_fall, color=colors[3], alpha=0.2)\n",
    "    plt.fill_between(cols,mean_dry-std_dry, mean_dry+std_dry, color=colors[2], alpha=0.2)\n",
    "    plt.fill_between(cols,mean_shall-std_shall, mean_shall+std_shall, color=colors[1], alpha=0.3)\n",
    "    plt.fill_between(cols,mean_deep-std_deep, mean_deep+std_deep, color=colors[0], alpha=0.2)\n",
    "    \n",
    "plt.legend(loc='center left', bbox_to_anchor=(1, 0.5))\n",
    "plt.xlabel('Bandwidth (nm)')\n",
    "plt.ylabel('Reflectance (%)')\n",
    "plt.grid(axis = 'y')"
   ]
  },
  {
   "cell_type": "markdown",
   "metadata": {},
   "source": [
    "### 1) Outliers"
   ]
  },
  {
   "cell_type": "code",
   "execution_count": 6,
   "metadata": {},
   "outputs": [],
   "source": [
    "training[\"Content\"] = [3 if x==6 else x for x in training.Content]"
   ]
  },
  {
   "cell_type": "code",
   "execution_count": 6,
   "metadata": {},
   "outputs": [
    {
     "data": {
      "image/png": "[encoded data removed]",
      "text/plain": [
       "<Figure size 432x288 with 1 Axes>"
      ]
     },
     "metadata": {
      "needs_background": "light"
     },
     "output_type": "display_data"
    }
   ],
   "source": [
    "deep_water = training[training.Content==1]\n",
    "deep_water[cols].boxplot()\n",
    "plt.savefig('Figures/{0}.png'.format('deep_water_boxplt'))"
   ]
  },
  {
   "cell_type": "code",
   "execution_count": 7,
   "metadata": {},
   "outputs": [
    {
     "data": {
      "image/png": "[encoded data removed]",
      "text/plain": [
       "<Figure size 432x288 with 1 Axes>"
      ]
     },
     "metadata": {
      "needs_background": "light"
     },
     "output_type": "display_data"
    }
   ],
   "source": [
    "shallow_water = training[training.Content==2]\n",
    "shallow_water[cols].boxplot()\n",
    "plt.savefig('Figures/{0}.png'.format('shall_water_boxplt'))"
   ]
  },
  {
   "cell_type": "code",
   "execution_count": 8,
   "metadata": {},
   "outputs": [
    {
     "data": {
      "image/png": "[encoded data removed]",
      "text/plain": [
       "<Figure size 432x288 with 1 Axes>"
      ]
     },
     "metadata": {
      "needs_background": "light"
     },
     "output_type": "display_data"
    }
   ],
   "source": [
    "dry = training[training.Content==3]\n",
    "dry[cols].boxplot()\n",
    "plt.savefig('Figures/{0}.png'.format('dry_urban_boxplt'))"
   ]
  },
  {
   "cell_type": "code",
   "execution_count": 9,
   "metadata": {},
   "outputs": [
    {
     "data": {
      "image/png": "[encoded data removed]",
      "text/plain": [
       "<Figure size 432x288 with 1 Axes>"
      ]
     },
     "metadata": {
      "needs_background": "light"
     },
     "output_type": "display_data"
    }
   ],
   "source": [
    "fall = training[training.Content==4]\n",
    "fall[cols].boxplot()\n",
    "plt.savefig('Figures/{0}.png'.format('veg_boxplt'))"
   ]
  },
  {
   "cell_type": "code",
   "execution_count": 10,
   "metadata": {},
   "outputs": [
    {
     "data": {
      "image/png": "[encoded data removed]",
      "text/plain": [
       "<Figure size 432x288 with 1 Axes>"
      ]
     },
     "metadata": {
      "needs_background": "light"
     },
     "output_type": "display_data"
    }
   ],
   "source": [
    "veg = training[training.Content==5]\n",
    "veg[cols].boxplot()\n",
    "plt.savefig('Figures/{0}.png'.format('fall_boxplt'))"
   ]
  },
  {
   "cell_type": "code",
   "execution_count": 12,
   "metadata": {},
   "outputs": [
    {
     "data": {
      "text/plain": [
       "<matplotlib.axes._subplots.AxesSubplot at 0x2b459e3dac8>"
      ]
     },
     "execution_count": 12,
     "metadata": {},
     "output_type": "execute_result"
    },
    {
     "data": {
      "image/png": "[encoded data removed]",
      "text/plain": [
       "<Figure size 432x288 with 1 Axes>"
      ]
     },
     "metadata": {
      "needs_background": "light"
     },
     "output_type": "display_data"
    }
   ],
   "source": [
    "city = training[training.Content==6]\n",
    "city[cols].boxplot()\n",
    "#plt.savefig('Figures/{0}.png'.format('city_boxplt'))"
   ]
  },
  {
   "cell_type": "markdown",
   "metadata": {},
   "source": [
    "### Remove percentiles"
   ]
  },
  {
   "cell_type": "code",
   "execution_count": 16,
   "metadata": {},
   "outputs": [],
   "source": [
    "final = pd.DataFrame()\n",
    "classes = [deep_water,shallow_water, veg, dry, fall]\n",
    "\n",
    "for c in classes:    \n",
    "    \n",
    "    for b in cols:\n",
    "        x = c[b]\n",
    "        c = c[x.between(x.quantile(0.025), x.quantile(0.975))]\n",
    "    \n",
    "    final = pd.concat([final,c])"
   ]
  },
  {
   "cell_type": "code",
   "execution_count": 15,
   "metadata": {},
   "outputs": [
    {
     "data": {
      "text/plain": [
       "54.13067660730414"
      ]
     },
     "execution_count": 15,
     "metadata": {},
     "output_type": "execute_result"
    }
   ],
   "source": [
    "(155230/286769)*100"
   ]
  },
  {
   "cell_type": "code",
   "execution_count": 16,
   "metadata": {},
   "outputs": [],
   "source": [
    "final.describe()\n",
    "training = final"
   ]
  },
  {
   "cell_type": "markdown",
   "metadata": {},
   "source": [
    "## 3) Variance"
   ]
  },
  {
   "cell_type": "code",
   "execution_count": 29,
   "metadata": {},
   "outputs": [
    {
     "data": {
      "text/plain": [
       "Text(0, 0.5, 'variance')"
      ]
     },
     "execution_count": 29,
     "metadata": {},
     "output_type": "execute_result"
    },
    {
     "data": {
      "image/png": "[encoded data removed]",
      "text/plain": [
       "<Figure size 432x288 with 1 Axes>"
      ]
     },
     "metadata": {
      "needs_background": "light"
     },
     "output_type": "display_data"
    }
   ],
   "source": [
    "variance2 = validation[cols].var()\n",
    "variance1 = training[cols].var()\n",
    "plt.plot(variance1, color = 'skyblue')\n",
    "plt.plot(variance2, color = 'darkred')\n",
    "plt.grid()\n",
    "plt.xlabel('Band')\n",
    "plt.ylabel('variance')"
   ]
  },
  {
   "cell_type": "markdown",
   "metadata": {},
   "source": [
    "# DATA PREPROCESSING"
   ]
  },
  {
   "cell_type": "markdown",
   "metadata": {},
   "source": [
    "### 1) Dealing with class imbalance"
   ]
  },
  {
   "cell_type": "code",
   "execution_count": 6,
   "metadata": {},
   "outputs": [],
   "source": [
    "training.Content = [3 if x==6 else x for x in training.Content]"
   ]
  },
  {
   "cell_type": "code",
   "execution_count": 4,
   "metadata": {},
   "outputs": [
    {
     "data": {
      "image/png": "[encoded data removed]",
      "text/plain": [
       "<Figure size 432x288 with 1 Axes>"
      ]
     },
     "metadata": {},
     "output_type": "display_data"
    }
   ],
   "source": [
    "Image.class_piechart(training)"
   ]
  },
  {
   "cell_type": "code",
   "execution_count": 18,
   "metadata": {},
   "outputs": [],
   "source": [
    "training = shuffle(training)"
   ]
  },
  {
   "cell_type": "code",
   "execution_count": 19,
   "metadata": {},
   "outputs": [],
   "source": [
    "#Drop part of the large water bodies class\n",
    "lwb = training.loc[training['Content'] == 1]\n",
    "n = len(training.loc[training['Content'] == 5])\n",
    "#n = len(training.loc[training['Content'] == 6])\n",
    "training = training.drop(lwb[n:].index)\n",
    "#training = training.drop(veg[n:].index)"
   ]
  },
  {
   "cell_type": "code",
   "execution_count": 20,
   "metadata": {},
   "outputs": [],
   "source": [
    "X = training[cols]\n",
    "Y = training['Content']"
   ]
  },
  {
   "cell_type": "code",
   "execution_count": 21,
   "metadata": {},
   "outputs": [
    {
     "data": {
      "image/png": "[encoded data removed]",
      "text/plain": [
       "<Figure size 432x288 with 1 Axes>"
      ]
     },
     "metadata": {},
     "output_type": "display_data"
    }
   ],
   "source": [
    "Image.class_piechart(training)"
   ]
  },
  {
   "cell_type": "code",
   "execution_count": 22,
   "metadata": {},
   "outputs": [],
   "source": [
    "X_resampled, y_resampled = SMOTE().fit_resample(X, Y)"
   ]
  },
  {
   "cell_type": "code",
   "execution_count": 23,
   "metadata": {},
   "outputs": [],
   "source": [
    "training_resampled = X_resampled\n",
    "training_resampled['Content'] = y_resampled"
   ]
  },
  {
   "cell_type": "code",
   "execution_count": 24,
   "metadata": {},
   "outputs": [
    {
     "data": {
      "image/png": "[encoded data removed]",
      "text/plain": [
       "<Figure size 432x288 with 1 Axes>"
      ]
     },
     "metadata": {},
     "output_type": "display_data"
    }
   ],
   "source": [
    "Image.class_piechart(training_resampled);"
   ]
  },
  {
   "cell_type": "code",
   "execution_count": null,
   "metadata": {},
   "outputs": [],
   "source": [
    "training.describe()"
   ]
  },
  {
   "cell_type": "markdown",
   "metadata": {},
   "source": [
    "### 2) Add spectral indices"
   ]
  },
  {
   "cell_type": "code",
   "execution_count": 5,
   "metadata": {},
   "outputs": [],
   "source": [
    "training_indices = Processing.add_indices(training_resampled)"
   ]
  },
  {
   "cell_type": "code",
   "execution_count": 10,
   "metadata": {},
   "outputs": [
    {
     "data": {
      "text/html": [
       "<div>\n",
       "<style scoped>\n",
       "    .dataframe tbody tr th:only-of-type {\n",
       "        vertical-align: middle;\n",
       "    }\n",
       "\n",
       "    .dataframe tbody tr th {\n",
       "        vertical-align: top;\n",
       "    }\n",
       "\n",
       "    .dataframe thead th {\n",
       "        text-align: right;\n",
       "    }\n",
       "</style>\n",
       "<table border=\"1\" class=\"dataframe\">\n",
       "  <thead>\n",
       "    <tr style=\"text-align: right;\">\n",
       "      <th></th>\n",
       "      <th>B1</th>\n",
       "      <th>B2</th>\n",
       "      <th>B3</th>\n",
       "      <th>B4</th>\n",
       "      <th>B5</th>\n",
       "      <th>B6</th>\n",
       "      <th>B7</th>\n",
       "      <th>B8</th>\n",
       "      <th>B9</th>\n",
       "      <th>B10</th>\n",
       "      <th>B11</th>\n",
       "      <th>B12</th>\n",
       "      <th>B13</th>\n",
       "      <th>Content</th>\n",
       "      <th>NDWI</th>\n",
       "      <th>MNDWI</th>\n",
       "      <th>NDVI</th>\n",
       "      <th>NDBI</th>\n",
       "    </tr>\n",
       "  </thead>\n",
       "  <tbody>\n",
       "    <tr>\n",
       "      <th>count</th>\n",
       "      <td>2.131424e+07</td>\n",
       "      <td>2.131424e+07</td>\n",
       "      <td>2.131424e+07</td>\n",
       "      <td>2.131424e+07</td>\n",
       "      <td>2.131424e+07</td>\n",
       "      <td>2.131424e+07</td>\n",
       "      <td>2.131424e+07</td>\n",
       "      <td>2.131424e+07</td>\n",
       "      <td>2.131424e+07</td>\n",
       "      <td>2.131424e+07</td>\n",
       "      <td>2.131424e+07</td>\n",
       "      <td>2.131424e+07</td>\n",
       "      <td>2.131424e+07</td>\n",
       "      <td>2.131424e+07</td>\n",
       "      <td>2.131424e+07</td>\n",
       "      <td>2.131424e+07</td>\n",
       "      <td>2.131424e+07</td>\n",
       "      <td>2.131424e+07</td>\n",
       "    </tr>\n",
       "    <tr>\n",
       "      <th>mean</th>\n",
       "      <td>9.709687e+02</td>\n",
       "      <td>1.094422e+03</td>\n",
       "      <td>1.280531e+03</td>\n",
       "      <td>1.294337e+03</td>\n",
       "      <td>1.524642e+03</td>\n",
       "      <td>1.883043e+03</td>\n",
       "      <td>2.056072e+03</td>\n",
       "      <td>2.055390e+03</td>\n",
       "      <td>2.171742e+03</td>\n",
       "      <td>2.154066e+03</td>\n",
       "      <td>1.929160e+03</td>\n",
       "      <td>1.411114e+03</td>\n",
       "      <td>2.603937e+02</td>\n",
       "      <td>3.000000e+00</td>\n",
       "      <td>-1.995880e-01</td>\n",
       "      <td>-1.461601e-01</td>\n",
       "      <td>2.005837e-01</td>\n",
       "      <td>-5.671816e-02</td>\n",
       "    </tr>\n",
       "    <tr>\n",
       "      <th>std</th>\n",
       "      <td>3.859267e+02</td>\n",
       "      <td>3.617380e+02</td>\n",
       "      <td>3.667104e+02</td>\n",
       "      <td>4.276524e+02</td>\n",
       "      <td>4.631937e+02</td>\n",
       "      <td>5.988377e+02</td>\n",
       "      <td>7.054775e+02</td>\n",
       "      <td>7.293836e+02</td>\n",
       "      <td>7.910908e+02</td>\n",
       "      <td>7.306748e+02</td>\n",
       "      <td>8.497947e+02</td>\n",
       "      <td>7.781289e+02</td>\n",
       "      <td>1.531668e+02</td>\n",
       "      <td>1.414214e+00</td>\n",
       "      <td>2.037028e-01</td>\n",
       "      <td>2.648156e-01</td>\n",
       "      <td>2.000900e-01</td>\n",
       "      <td>1.541871e-01</td>\n",
       "    </tr>\n",
       "    <tr>\n",
       "      <th>min</th>\n",
       "      <td>1.000000e+00</td>\n",
       "      <td>1.000000e+00</td>\n",
       "      <td>2.140000e+02</td>\n",
       "      <td>1.510000e+02</td>\n",
       "      <td>2.770000e+02</td>\n",
       "      <td>2.340000e+02</td>\n",
       "      <td>2.310000e+02</td>\n",
       "      <td>2.140000e+02</td>\n",
       "      <td>2.060000e+02</td>\n",
       "      <td>1.840000e+02</td>\n",
       "      <td>1.240000e+02</td>\n",
       "      <td>4.300000e+01</td>\n",
       "      <td>6.100000e+01</td>\n",
       "      <td>1.000000e+00</td>\n",
       "      <td>-8.226117e-01</td>\n",
       "      <td>-9.321786e-01</td>\n",
       "      <td>-3.619948e-01</td>\n",
       "      <td>-7.372014e-01</td>\n",
       "    </tr>\n",
       "    <tr>\n",
       "      <th>25%</th>\n",
       "      <td>8.580000e+02</td>\n",
       "      <td>9.650000e+02</td>\n",
       "      <td>1.112000e+03</td>\n",
       "      <td>1.040000e+03</td>\n",
       "      <td>1.234000e+03</td>\n",
       "      <td>1.561000e+03</td>\n",
       "      <td>1.669323e+03</td>\n",
       "      <td>1.678000e+03</td>\n",
       "      <td>1.787740e+03</td>\n",
       "      <td>1.826000e+03</td>\n",
       "      <td>1.423000e+03</td>\n",
       "      <td>7.570000e+02</td>\n",
       "      <td>1.970000e+02</td>\n",
       "      <td>2.000000e+00</td>\n",
       "      <td>-3.264249e-01</td>\n",
       "      <td>-3.010690e-01</td>\n",
       "      <td>7.914659e-02</td>\n",
       "      <td>-1.918489e-01</td>\n",
       "    </tr>\n",
       "    <tr>\n",
       "      <th>50%</th>\n",
       "      <td>1.100000e+03</td>\n",
       "      <td>1.218000e+03</td>\n",
       "      <td>1.314000e+03</td>\n",
       "      <td>1.282000e+03</td>\n",
       "      <td>1.505000e+03</td>\n",
       "      <td>2.019000e+03</td>\n",
       "      <td>2.228047e+03</td>\n",
       "      <td>2.258000e+03</td>\n",
       "      <td>2.398000e+03</td>\n",
       "      <td>2.373605e+03</td>\n",
       "      <td>2.036000e+03</td>\n",
       "      <td>1.289068e+03</td>\n",
       "      <td>2.000000e+02</td>\n",
       "      <td>3.000000e+00</td>\n",
       "      <td>-2.168992e-01</td>\n",
       "      <td>-2.132890e-01</td>\n",
       "      <td>1.812134e-01</td>\n",
       "      <td>-5.393306e-02</td>\n",
       "    </tr>\n",
       "    <tr>\n",
       "      <th>75%</th>\n",
       "      <td>1.263000e+03</td>\n",
       "      <td>1.356000e+03</td>\n",
       "      <td>1.538088e+03</td>\n",
       "      <td>1.629125e+03</td>\n",
       "      <td>1.890550e+03</td>\n",
       "      <td>2.320133e+03</td>\n",
       "      <td>2.564868e+03</td>\n",
       "      <td>2.570000e+03</td>\n",
       "      <td>2.722773e+03</td>\n",
       "      <td>2.644025e+03</td>\n",
       "      <td>2.603000e+03</td>\n",
       "      <td>2.013250e+03</td>\n",
       "      <td>2.040000e+02</td>\n",
       "      <td>4.000000e+00</td>\n",
       "      <td>-1.175880e-01</td>\n",
       "      <td>-1.830710e-02</td>\n",
       "      <td>3.229225e-01</td>\n",
       "      <td>7.958884e-02</td>\n",
       "    </tr>\n",
       "    <tr>\n",
       "      <th>max</th>\n",
       "      <td>2.356000e+03</td>\n",
       "      <td>3.464000e+03</td>\n",
       "      <td>5.044000e+03</td>\n",
       "      <td>4.828000e+03</td>\n",
       "      <td>4.236000e+03</td>\n",
       "      <td>6.720000e+03</td>\n",
       "      <td>7.950000e+03</td>\n",
       "      <td>8.512000e+03</td>\n",
       "      <td>9.062000e+03</td>\n",
       "      <td>6.052000e+03</td>\n",
       "      <td>1.534400e+04</td>\n",
       "      <td>1.521200e+04</td>\n",
       "      <td>6.920000e+02</td>\n",
       "      <td>5.000000e+00</td>\n",
       "      <td>4.795918e-01</td>\n",
       "      <td>7.427785e-01</td>\n",
       "      <td>8.891353e-01</td>\n",
       "      <td>8.862400e-01</td>\n",
       "    </tr>\n",
       "  </tbody>\n",
       "</table>\n",
       "</div>"
      ],
      "text/plain": [
       "                 B1            B2            B3            B4            B5  \\\n",
       "count  2.131424e+07  2.131424e+07  2.131424e+07  2.131424e+07  2.131424e+07   \n",
       "mean   9.709687e+02  1.094422e+03  1.280531e+03  1.294337e+03  1.524642e+03   \n",
       "std    3.859267e+02  3.617380e+02  3.667104e+02  4.276524e+02  4.631937e+02   \n",
       "min    1.000000e+00  1.000000e+00  2.140000e+02  1.510000e+02  2.770000e+02   \n",
       "25%    8.580000e+02  9.650000e+02  1.112000e+03  1.040000e+03  1.234000e+03   \n",
       "50%    1.100000e+03  1.218000e+03  1.314000e+03  1.282000e+03  1.505000e+03   \n",
       "75%    1.263000e+03  1.356000e+03  1.538088e+03  1.629125e+03  1.890550e+03   \n",
       "max    2.356000e+03  3.464000e+03  5.044000e+03  4.828000e+03  4.236000e+03   \n",
       "\n",
       "                 B6            B7            B8            B9           B10  \\\n",
       "count  2.131424e+07  2.131424e+07  2.131424e+07  2.131424e+07  2.131424e+07   \n",
       "mean   1.883043e+03  2.056072e+03  2.055390e+03  2.171742e+03  2.154066e+03   \n",
       "std    5.988377e+02  7.054775e+02  7.293836e+02  7.910908e+02  7.306748e+02   \n",
       "min    2.340000e+02  2.310000e+02  2.140000e+02  2.060000e+02  1.840000e+02   \n",
       "25%    1.561000e+03  1.669323e+03  1.678000e+03  1.787740e+03  1.826000e+03   \n",
       "50%    2.019000e+03  2.228047e+03  2.258000e+03  2.398000e+03  2.373605e+03   \n",
       "75%    2.320133e+03  2.564868e+03  2.570000e+03  2.722773e+03  2.644025e+03   \n",
       "max    6.720000e+03  7.950000e+03  8.512000e+03  9.062000e+03  6.052000e+03   \n",
       "\n",
       "                B11           B12           B13       Content          NDWI  \\\n",
       "count  2.131424e+07  2.131424e+07  2.131424e+07  2.131424e+07  2.131424e+07   \n",
       "mean   1.929160e+03  1.411114e+03  2.603937e+02  3.000000e+00 -1.995880e-01   \n",
       "std    8.497947e+02  7.781289e+02  1.531668e+02  1.414214e+00  2.037028e-01   \n",
       "min    1.240000e+02  4.300000e+01  6.100000e+01  1.000000e+00 -8.226117e-01   \n",
       "25%    1.423000e+03  7.570000e+02  1.970000e+02  2.000000e+00 -3.264249e-01   \n",
       "50%    2.036000e+03  1.289068e+03  2.000000e+02  3.000000e+00 -2.168992e-01   \n",
       "75%    2.603000e+03  2.013250e+03  2.040000e+02  4.000000e+00 -1.175880e-01   \n",
       "max    1.534400e+04  1.521200e+04  6.920000e+02  5.000000e+00  4.795918e-01   \n",
       "\n",
       "              MNDWI          NDVI          NDBI  \n",
       "count  2.131424e+07  2.131424e+07  2.131424e+07  \n",
       "mean  -1.461601e-01  2.005837e-01 -5.671816e-02  \n",
       "std    2.648156e-01  2.000900e-01  1.541871e-01  \n",
       "min   -9.321786e-01 -3.619948e-01 -7.372014e-01  \n",
       "25%   -3.010690e-01  7.914659e-02 -1.918489e-01  \n",
       "50%   -2.132890e-01  1.812134e-01 -5.393306e-02  \n",
       "75%   -1.830710e-02  3.229225e-01  7.958884e-02  \n",
       "max    7.427785e-01  8.891353e-01  8.862400e-01  "
      ]
     },
     "execution_count": 10,
     "metadata": {},
     "output_type": "execute_result"
    }
   ],
   "source": [
    "training_indices.describe()"
   ]
  },
  {
   "cell_type": "markdown",
   "metadata": {},
   "source": [
    "### 3) Standarization"
   ]
  },
  {
   "cell_type": "code",
   "execution_count": 19,
   "metadata": {},
   "outputs": [],
   "source": [
    "#cols = ['B1','B2','B3','B4','B5','B6','B7','B8','B9','B10','B11','B12','B13','NDVI','NDWI','MNDWI','NDBI']\n",
    "X = training_resampled[cols]\n",
    "Y = training_resampled['Content']\n",
    "standardized_X = preprocessing.scale(X)"
   ]
  },
  {
   "cell_type": "code",
   "execution_count": 20,
   "metadata": {},
   "outputs": [],
   "source": [
    "training = pd.DataFrame(standardized_X, columns = cols)\n",
    "training['Content'] = Y.values\n",
    "training = training.dropna()"
   ]
  },
  {
   "cell_type": "code",
   "execution_count": 23,
   "metadata": {
    "scrolled": true
   },
   "outputs": [
    {
     "data": {
      "text/html": [
       "<div>\n",
       "<style scoped>\n",
       "    .dataframe tbody tr th:only-of-type {\n",
       "        vertical-align: middle;\n",
       "    }\n",
       "\n",
       "    .dataframe tbody tr th {\n",
       "        vertical-align: top;\n",
       "    }\n",
       "\n",
       "    .dataframe thead th {\n",
       "        text-align: right;\n",
       "    }\n",
       "</style>\n",
       "<table border=\"1\" class=\"dataframe\">\n",
       "  <thead>\n",
       "    <tr style=\"text-align: right;\">\n",
       "      <th></th>\n",
       "      <th>B1</th>\n",
       "      <th>B2</th>\n",
       "      <th>B3</th>\n",
       "      <th>B4</th>\n",
       "      <th>B5</th>\n",
       "      <th>B6</th>\n",
       "      <th>B7</th>\n",
       "      <th>B8</th>\n",
       "      <th>B8A</th>\n",
       "      <th>B9</th>\n",
       "      <th>B10</th>\n",
       "      <th>B11</th>\n",
       "      <th>B12</th>\n",
       "      <th>Content</th>\n",
       "    </tr>\n",
       "  </thead>\n",
       "  <tbody>\n",
       "    <tr>\n",
       "      <th>count</th>\n",
       "      <td>1.857950e+05</td>\n",
       "      <td>1.857950e+05</td>\n",
       "      <td>1.857950e+05</td>\n",
       "      <td>1.857950e+05</td>\n",
       "      <td>1.857950e+05</td>\n",
       "      <td>1.857950e+05</td>\n",
       "      <td>1.857950e+05</td>\n",
       "      <td>1.857950e+05</td>\n",
       "      <td>1.857950e+05</td>\n",
       "      <td>1.857950e+05</td>\n",
       "      <td>1.857950e+05</td>\n",
       "      <td>1.857950e+05</td>\n",
       "      <td>1.857950e+05</td>\n",
       "      <td>185795.000000</td>\n",
       "    </tr>\n",
       "    <tr>\n",
       "      <th>mean</th>\n",
       "      <td>1.958061e-17</td>\n",
       "      <td>-2.423100e-16</td>\n",
       "      <td>-1.101409e-16</td>\n",
       "      <td>-2.202818e-17</td>\n",
       "      <td>-4.038500e-16</td>\n",
       "      <td>1.174836e-16</td>\n",
       "      <td>4.797249e-16</td>\n",
       "      <td>-2.790236e-16</td>\n",
       "      <td>-1.076933e-16</td>\n",
       "      <td>-2.202818e-16</td>\n",
       "      <td>1.325133e-16</td>\n",
       "      <td>-7.832243e-17</td>\n",
       "      <td>-2.398624e-16</td>\n",
       "      <td>3.000000</td>\n",
       "    </tr>\n",
       "    <tr>\n",
       "      <th>std</th>\n",
       "      <td>1.000003e+00</td>\n",
       "      <td>1.000003e+00</td>\n",
       "      <td>1.000003e+00</td>\n",
       "      <td>1.000003e+00</td>\n",
       "      <td>1.000003e+00</td>\n",
       "      <td>1.000003e+00</td>\n",
       "      <td>1.000003e+00</td>\n",
       "      <td>1.000003e+00</td>\n",
       "      <td>1.000003e+00</td>\n",
       "      <td>1.000003e+00</td>\n",
       "      <td>1.000003e+00</td>\n",
       "      <td>1.000003e+00</td>\n",
       "      <td>1.000003e+00</td>\n",
       "      <td>1.414217</td>\n",
       "    </tr>\n",
       "    <tr>\n",
       "      <th>min</th>\n",
       "      <td>-1.935732e+00</td>\n",
       "      <td>-2.096606e+00</td>\n",
       "      <td>-1.736159e+00</td>\n",
       "      <td>-1.826864e+00</td>\n",
       "      <td>-1.605374e+00</td>\n",
       "      <td>-1.667946e+00</td>\n",
       "      <td>-1.573693e+00</td>\n",
       "      <td>-1.581772e+00</td>\n",
       "      <td>-1.497145e+00</td>\n",
       "      <td>-1.588981e+00</td>\n",
       "      <td>-1.283244e+00</td>\n",
       "      <td>-1.110399e+00</td>\n",
       "      <td>-1.203331e+00</td>\n",
       "      <td>1.000000</td>\n",
       "    </tr>\n",
       "    <tr>\n",
       "      <th>25%</th>\n",
       "      <td>-9.889281e-01</td>\n",
       "      <td>-9.564711e-01</td>\n",
       "      <td>-9.172749e-01</td>\n",
       "      <td>-9.844167e-01</td>\n",
       "      <td>-9.420893e-01</td>\n",
       "      <td>-9.364304e-01</td>\n",
       "      <td>-8.742015e-01</td>\n",
       "      <td>-8.025954e-01</td>\n",
       "      <td>-8.404546e-01</td>\n",
       "      <td>-7.115428e-01</td>\n",
       "      <td>-9.630909e-01</td>\n",
       "      <td>-8.276570e-01</td>\n",
       "      <td>-5.195821e-01</td>\n",
       "      <td>2.000000</td>\n",
       "    </tr>\n",
       "    <tr>\n",
       "      <th>50%</th>\n",
       "      <td>2.589182e-01</td>\n",
       "      <td>2.453656e-01</td>\n",
       "      <td>9.413676e-02</td>\n",
       "      <td>3.607596e-03</td>\n",
       "      <td>-3.997137e-02</td>\n",
       "      <td>1.220739e-01</td>\n",
       "      <td>-1.325174e-02</td>\n",
       "      <td>-1.455042e-01</td>\n",
       "      <td>-1.854250e-01</td>\n",
       "      <td>-1.183799e-01</td>\n",
       "      <td>-1.591247e-01</td>\n",
       "      <td>-3.261899e-01</td>\n",
       "      <td>-4.842158e-01</td>\n",
       "      <td>3.000000</td>\n",
       "    </tr>\n",
       "    <tr>\n",
       "      <th>75%</th>\n",
       "      <td>8.982194e-01</td>\n",
       "      <td>8.462840e-01</td>\n",
       "      <td>7.551190e-01</td>\n",
       "      <td>8.812821e-01</td>\n",
       "      <td>7.784436e-01</td>\n",
       "      <td>8.295857e-01</td>\n",
       "      <td>7.900130e-01</td>\n",
       "      <td>8.323312e-01</td>\n",
       "      <td>8.516926e-01</td>\n",
       "      <td>8.439716e-01</td>\n",
       "      <td>5.201002e-01</td>\n",
       "      <td>4.342867e-01</td>\n",
       "      <td>1.531664e+00</td>\n",
       "      <td>4.000000</td>\n",
       "    </tr>\n",
       "    <tr>\n",
       "      <th>max</th>\n",
       "      <td>2.126282e+00</td>\n",
       "      <td>2.150062e+00</td>\n",
       "      <td>2.733048e+00</td>\n",
       "      <td>2.478647e+00</td>\n",
       "      <td>2.436655e+00</td>\n",
       "      <td>2.133592e+00</td>\n",
       "      <td>2.204898e+00</td>\n",
       "      <td>2.156999e+00</td>\n",
       "      <td>2.160155e+00</td>\n",
       "      <td>2.006916e+00</td>\n",
       "      <td>2.431964e+00</td>\n",
       "      <td>2.609260e+00</td>\n",
       "      <td>1.708496e+00</td>\n",
       "      <td>5.000000</td>\n",
       "    </tr>\n",
       "  </tbody>\n",
       "</table>\n",
       "</div>"
      ],
      "text/plain": [
       "                 B1            B2            B3            B4            B5  \\\n",
       "count  1.857950e+05  1.857950e+05  1.857950e+05  1.857950e+05  1.857950e+05   \n",
       "mean   1.958061e-17 -2.423100e-16 -1.101409e-16 -2.202818e-17 -4.038500e-16   \n",
       "std    1.000003e+00  1.000003e+00  1.000003e+00  1.000003e+00  1.000003e+00   \n",
       "min   -1.935732e+00 -2.096606e+00 -1.736159e+00 -1.826864e+00 -1.605374e+00   \n",
       "25%   -9.889281e-01 -9.564711e-01 -9.172749e-01 -9.844167e-01 -9.420893e-01   \n",
       "50%    2.589182e-01  2.453656e-01  9.413676e-02  3.607596e-03 -3.997137e-02   \n",
       "75%    8.982194e-01  8.462840e-01  7.551190e-01  8.812821e-01  7.784436e-01   \n",
       "max    2.126282e+00  2.150062e+00  2.733048e+00  2.478647e+00  2.436655e+00   \n",
       "\n",
       "                 B6            B7            B8           B8A            B9  \\\n",
       "count  1.857950e+05  1.857950e+05  1.857950e+05  1.857950e+05  1.857950e+05   \n",
       "mean   1.174836e-16  4.797249e-16 -2.790236e-16 -1.076933e-16 -2.202818e-16   \n",
       "std    1.000003e+00  1.000003e+00  1.000003e+00  1.000003e+00  1.000003e+00   \n",
       "min   -1.667946e+00 -1.573693e+00 -1.581772e+00 -1.497145e+00 -1.588981e+00   \n",
       "25%   -9.364304e-01 -8.742015e-01 -8.025954e-01 -8.404546e-01 -7.115428e-01   \n",
       "50%    1.220739e-01 -1.325174e-02 -1.455042e-01 -1.854250e-01 -1.183799e-01   \n",
       "75%    8.295857e-01  7.900130e-01  8.323312e-01  8.516926e-01  8.439716e-01   \n",
       "max    2.133592e+00  2.204898e+00  2.156999e+00  2.160155e+00  2.006916e+00   \n",
       "\n",
       "                B10           B11           B12        Content  \n",
       "count  1.857950e+05  1.857950e+05  1.857950e+05  185795.000000  \n",
       "mean   1.325133e-16 -7.832243e-17 -2.398624e-16       3.000000  \n",
       "std    1.000003e+00  1.000003e+00  1.000003e+00       1.414217  \n",
       "min   -1.283244e+00 -1.110399e+00 -1.203331e+00       1.000000  \n",
       "25%   -9.630909e-01 -8.276570e-01 -5.195821e-01       2.000000  \n",
       "50%   -1.591247e-01 -3.261899e-01 -4.842158e-01       3.000000  \n",
       "75%    5.201002e-01  4.342867e-01  1.531664e+00       4.000000  \n",
       "max    2.431964e+00  2.609260e+00  1.708496e+00       5.000000  "
      ]
     },
     "execution_count": 23,
     "metadata": {},
     "output_type": "execute_result"
    }
   ],
   "source": [
    "training.describe()"
   ]
  },
  {
   "cell_type": "markdown",
   "metadata": {},
   "source": [
    "### Save data"
   ]
  },
  {
   "cell_type": "code",
   "execution_count": 25,
   "metadata": {},
   "outputs": [],
   "source": [
    "training.to_csv(r'Data/Final/nostd_training.csv')"
   ]
  },
  {
   "cell_type": "markdown",
   "metadata": {},
   "source": [
    "# PCA"
   ]
  },
  {
   "cell_type": "code",
   "execution_count": 10,
   "metadata": {},
   "outputs": [],
   "source": [
    "pca = PCA(n_components=len(training.columns)-1)\n",
    "principalComponents = pca.fit_transform(X)"
   ]
  },
  {
   "cell_type": "code",
   "execution_count": 11,
   "metadata": {},
   "outputs": [
    {
     "data": {
      "image/png": "[encoded data removed]",
      "text/plain": [
       "<Figure size 432x288 with 1 Axes>"
      ]
     },
     "metadata": {
      "needs_background": "light"
     },
     "output_type": "display_data"
    }
   ],
   "source": [
    "threshold = 0.95\n",
    "rho = pca.explained_variance_/sum(pca.explained_variance_)\n",
    "\n",
    "plt.plot(range(1,len(rho)+1), np.cumsum(rho))\n",
    "plt.plot([1,len(rho)],[threshold, threshold],'k--')\n",
    "plt.xlabel('Principal component')\n",
    "plt.ylabel('Variance explained')\n",
    "plt.grid()"
   ]
  },
  {
   "cell_type": "code",
   "execution_count": 12,
   "metadata": {},
   "outputs": [
    {
     "data": {
      "text/plain": [
       "array([False, False,  True,  True,  True,  True,  True,  True,  True,\n",
       "        True,  True,  True,  True])"
      ]
     },
     "execution_count": 12,
     "metadata": {},
     "output_type": "execute_result"
    }
   ],
   "source": [
    "np.cumsum(rho) > 0.95"
   ]
  },
  {
   "cell_type": "code",
   "execution_count": 13,
   "metadata": {},
   "outputs": [],
   "source": [
    "pca_components = pd.DataFrame(pca.components_[:3])"
   ]
  },
  {
   "cell_type": "code",
   "execution_count": 16,
   "metadata": {},
   "outputs": [
    {
     "data": {
      "text/plain": [
       "<Figure size 432x288 with 0 Axes>"
      ]
     },
     "metadata": {},
     "output_type": "display_data"
    },
    {
     "data": {
      "image/png": "[encoded data removed]",
      "text/plain": [
       "<Figure size 432x288 with 1 Axes>"
      ]
     },
     "metadata": {
      "needs_background": "light"
     },
     "output_type": "display_data"
    }
   ],
   "source": [
    "colors = ['blue', 'red', 'green', 'orange', 'purple', 'yellow', 'pink', 'limegreen', 'deepskyblue', 'darkorange', 'fuchsia', \n",
    "          'blueviolet', 'greenyellow', 'crimson', 'aquamarine', 'gold', 'gray']\n",
    "fig = plt.figure()\n",
    "ax = pca_components.plot.bar(grid = True, legend = False, color = colors )\n",
    "box = ax.get_position()\n",
    "ax.set_position([box.x0, box.y0, box.width*1.5, box.height*1.5])\n",
    "ax.legend(loc='center left', bbox_to_anchor=(1, 0.5))\n",
    "\n",
    "plt.show()\n",
    "plt.savefig('Figures/pca_components.png')"
   ]
  },
  {
   "cell_type": "code",
   "execution_count": 43,
   "metadata": {},
   "outputs": [],
   "source": [
    "pca_training = pd.DataFrame(principalComponents)\n",
    "pca_training = pca_training[[0,1,2]]\n",
    "pca_training['Content'] = Y.values"
   ]
  },
  {
   "cell_type": "code",
   "execution_count": 45,
   "metadata": {},
   "outputs": [],
   "source": [
    "pca_training.to_csv(r'Clean_data/pca_training.csv')"
   ]
  },
  {
   "cell_type": "markdown",
   "metadata": {},
   "source": [
    "## RGB values"
   ]
  },
  {
   "cell_type": "code",
   "execution_count": 1,
   "metadata": {},
   "outputs": [],
   "source": [
    "def RGB_hist(df):\n",
    "    df['B1'].hist(bins=50, alpha= 0.3,color = 'red')\n",
    "    df['B2'].hist(bins=50, alpha= 0.3,color = 'green')\n",
    "    df['B3'].hist(bins=50, alpha= 0.3,color = 'blue')"
   ]
  },
  {
   "cell_type": "code",
   "execution_count": 8,
   "metadata": {},
   "outputs": [],
   "source": [
    "path = \"H:/sentinel2/Ghana/Validation/02-01-20/SE/020120_20.tif\"\n",
    "img = Image.make_dataset(path)\n",
    "SE_020120 = img['df'][cols]\n",
    "dim_SE_020120 = img['dim']"
   ]
  },
  {
   "cell_type": "code",
   "execution_count": 9,
   "metadata": {},
   "outputs": [],
   "source": [
    "path = \"H:/sentinel2/Ghana/Training/27-01-20/SE/L2A_270120_20.tif\"\n",
    "img = Image.make_dataset(path)\n",
    "SE_270120 = img['df'][cols]\n",
    "dim_SE_270120 = img['dim']"
   ]
  },
  {
   "cell_type": "code",
   "execution_count": 10,
   "metadata": {},
   "outputs": [],
   "source": [
    "path = \"H:/sentinel2/Ghana/Training/28-12-18/SE/L2A_281218_20.tif\"\n",
    "img = Image.make_dataset(path)\n",
    "SE_281218 = img['df'][cols]\n",
    "dim_SE_281218 = img['dim']"
   ]
  },
  {
   "cell_type": "code",
   "execution_count": null,
   "metadata": {},
   "outputs": [],
   "source": []
  }
 ],
 "metadata": {
  "kernelspec": {
   "display_name": "Blanca",
   "language": "python",
   "name": "blanca"
  },
  "language_info": {
   "codemirror_mode": {
    "name": "ipython",
    "version": 3
   },
   "file_extension": ".py",
   "mimetype": "text/x-python",
   "name": "python",
   "nbconvert_exporter": "python",
   "pygments_lexer": "ipython3",
   "version": "3.7.6"
  }
 },
 "nbformat": 4,
 "nbformat_minor": 4
}
