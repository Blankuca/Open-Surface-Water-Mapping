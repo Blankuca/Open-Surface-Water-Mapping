{
 "cells": [
  {
   "cell_type": "code",
   "execution_count": 15,
   "metadata": {},
   "outputs": [],
   "source": [
    "import Script.Image as Image\n",
    "import Script.Validation as Validation\n",
    "import numpy as np\n",
    "import matplotlib.pyplot as plt\n",
    "import pandas as pd"
   ]
  },
  {
   "cell_type": "markdown",
   "metadata": {},
   "source": [
    "# DATA PROCESSING"
   ]
  },
  {
   "cell_type": "markdown",
   "metadata": {},
   "source": [
    "## Upload data"
   ]
  },
  {
   "cell_type": "markdown",
   "metadata": {},
   "source": [
    "First, the images that are going to be used are imported and we build the datasets that will be used for training and validation. Those used for training don't need to upload the full image."
   ]
  },
  {
   "cell_type": "markdown",
   "metadata": {},
   "source": [
    "#### Data from 07/01/2020"
   ]
  },
  {
   "cell_type": "code",
   "execution_count": 16,
   "metadata": {},
   "outputs": [],
   "source": [
    "filepath = \"../Sentinel-2/2020_01_07/L2A_07012020.tif\"\n",
    "img_07012020 = Image.make_dataset(filepath)"
   ]
  },
  {
   "cell_type": "code",
   "execution_count": 4,
   "metadata": {},
   "outputs": [],
   "source": [
    "water_path = \"../Sentinel-2/2020_01_07/Shapefiles/Water_Polygon.shp\"\n",
    "ground_path = \"../Sentinel-2/2020_01_07/Shapefiles/Earth_Polygon.shp\"\n",
    "val_07012020 = Validation.make_dataset(water_path,ground_path,filepath)"
   ]
  },
  {
   "cell_type": "markdown",
   "metadata": {},
   "source": [
    "#### Data from 27/01/2020"
   ]
  },
  {
   "cell_type": "code",
   "execution_count": 5,
   "metadata": {},
   "outputs": [],
   "source": [
    "filepath = \"../Sentinel-2/2020_01_27/L2A_27012020.tif\"\n",
    "img_27012020 = Dataframe.make_dataset(filepath)"
   ]
  },
  {
   "cell_type": "code",
   "execution_count": 6,
   "metadata": {},
   "outputs": [],
   "source": [
    "water_path = \"../Sentinel-2/2020_01_27/Shapefiles/Water_Polygon.shp\"\n",
    "ground_path = \"../Sentinel-2/2020_01_27/Shapefiles/Earth_Polygon.shp\"\n",
    "val_27012020 = Validation.make_dataset(water_path,ground_path,filepath)"
   ]
  },
  {
   "cell_type": "markdown",
   "metadata": {},
   "source": [
    "#### Data from 02/01/2020"
   ]
  },
  {
   "cell_type": "code",
   "execution_count": 7,
   "metadata": {},
   "outputs": [],
   "source": [
    "filepath = \"../Sentinel-2/2020_01_02/L2A_02012020.tif\"\n",
    "img_02012020 = Dataframe.make_dataset(filepath)"
   ]
  },
  {
   "cell_type": "code",
   "execution_count": 9,
   "metadata": {},
   "outputs": [],
   "source": [
    "water_path = \"../Sentinel-2/2020_01_02/Shapefiles/Water_Polygon.shp\"\n",
    "ground_path = \"../Sentinel-2/2020_01_02/Shapefiles/Earth_Polygon.shp\"\n",
    "val_02012020 = Validation.make_dataset(water_path,ground_path,filepath)"
   ]
  },
  {
   "cell_type": "markdown",
   "metadata": {},
   "source": [
    "## Separate training and validation dataset"
   ]
  },
  {
   "cell_type": "markdown",
   "metadata": {},
   "source": [
    "Now the training set will be separated from the validation. Ideally, the validation dataset shouldn't have clouds. This is either by default, or they need to be cropped out."
   ]
  },
  {
   "cell_type": "markdown",
   "metadata": {},
   "source": [
    "### Training dataset"
   ]
  },
  {
   "cell_type": "code",
   "execution_count": 14,
   "metadata": {},
   "outputs": [],
   "source": [
    "training = pd.concat([val_02012020['df'],val_27012020['df']])\n",
    "training.to_csv(r'Training.csv')"
   ]
  },
  {
   "cell_type": "code",
   "execution_count": 13,
   "metadata": {},
   "outputs": [],
   "source": [
    "X_train = training[['B1','B2','B3','B4','B5','B6','B7','B8','B9','B10','B11','B12','B13']]\n",
    "Y_train = training['Content']"
   ]
  }
 ],
 "metadata": {
  "kernelspec": {
   "display_name": "Blanca",
   "language": "python",
   "name": "blanca"
  },
  "language_info": {
   "codemirror_mode": {
    "name": "ipython",
    "version": 3
   },
   "file_extension": ".py",
   "mimetype": "text/x-python",
   "name": "python",
   "nbconvert_exporter": "python",
   "pygments_lexer": "ipython3",
   "version": "3.7.6"
  }
 },
 "nbformat": 4,
 "nbformat_minor": 4
}
